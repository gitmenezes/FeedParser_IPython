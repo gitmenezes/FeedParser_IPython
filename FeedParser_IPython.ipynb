{
  "nbformat": 4,
  "nbformat_minor": 0,
  "metadata": {
    "colab": {
      "name": "FeedParser_IPython.ipynb",
      "provenance": []
    },
    "kernelspec": {
      "name": "python3",
      "display_name": "Python 3"
    },
    "language_info": {
      "name": "python"
    }
  },
  "cells": [
    {
      "cell_type": "markdown",
      "metadata": {
        "id": "H802ZsZBJaIL"
      },
      "source": [
        "### Ler feeds com a biblioteca FeedParser\n",
        "### Gerar lista HTML com links utilizando a Biblioteca IPython"
      ]
    },
    {
      "cell_type": "code",
      "metadata": {
        "colab": {
          "base_uri": "https://localhost:8080/"
        },
        "id": "yVHvmL7gyTB9",
        "outputId": "8f6684f0-e7e3-4504-ea52-62af9de69bc9"
      },
      "source": [
        "!pip install feedparser #Instalação da biblioteca"
      ],
      "execution_count": 2,
      "outputs": [
        {
          "output_type": "stream",
          "name": "stdout",
          "text": [
            "Collecting feedparser\n",
            "  Downloading feedparser-6.0.8-py3-none-any.whl (81 kB)\n",
            "\u001b[?25l\r\u001b[K     |████                            | 10 kB 22.1 MB/s eta 0:00:01\r\u001b[K     |████████                        | 20 kB 23.9 MB/s eta 0:00:01\r\u001b[K     |████████████▏                   | 30 kB 20.6 MB/s eta 0:00:01\r\u001b[K     |████████████████▏               | 40 kB 12.9 MB/s eta 0:00:01\r\u001b[K     |████████████████████▏           | 51 kB 5.6 MB/s eta 0:00:01\r\u001b[K     |████████████████████████▎       | 61 kB 5.7 MB/s eta 0:00:01\r\u001b[K     |████████████████████████████▎   | 71 kB 5.4 MB/s eta 0:00:01\r\u001b[K     |████████████████████████████████| 81 kB 3.8 MB/s \n",
            "\u001b[?25hCollecting sgmllib3k\n",
            "  Downloading sgmllib3k-1.0.0.tar.gz (5.8 kB)\n",
            "Building wheels for collected packages: sgmllib3k\n",
            "  Building wheel for sgmllib3k (setup.py) ... \u001b[?25l\u001b[?25hdone\n",
            "  Created wheel for sgmllib3k: filename=sgmllib3k-1.0.0-py3-none-any.whl size=6065 sha256=6b800d83d1a6852f75b21926f53cba579a54031482e3e392b3cf63b92ed001ad\n",
            "  Stored in directory: /root/.cache/pip/wheels/73/ad/a4/0dff4a6ef231fc0dfa12ffbac2a36cebfdddfe059f50e019aa\n",
            "Successfully built sgmllib3k\n",
            "Installing collected packages: sgmllib3k, feedparser\n",
            "Successfully installed feedparser-6.0.8 sgmllib3k-1.0.0\n"
          ]
        }
      ]
    },
    {
      "cell_type": "code",
      "metadata": {
        "id": "g3nnys332fwa"
      },
      "source": [
        "#importação das bibliotecas\n",
        "import feedparser as feed \n",
        "from IPython.display import HTML as htm"
      ],
      "execution_count": 89,
      "outputs": []
    },
    {
      "cell_type": "code",
      "metadata": {
        "id": "YcFq5DXL4OUq"
      },
      "source": [
        "#Função de incremento\n",
        "def feeds(url):\n",
        "  data = feed.parse(url)\n",
        "  noticias = []\n",
        "  for fed in data.entries:\n",
        "    noticias.append(display(htm(f\"\"\"<a href='{fed.links[0].href}'>{fed.title}<hr></a>\"\"\")))\n",
        "  return [li for li in noticias if li != None]\n"
      ],
      "execution_count": 118,
      "outputs": []
    },
    {
      "cell_type": "code",
      "metadata": {
        "id": "dNdBNk6H8J0U"
      },
      "source": [
        "url='http://www.cnnbrasil.com.br/feed' #url feed"
      ],
      "execution_count": 121,
      "outputs": []
    },
    {
      "cell_type": "code",
      "metadata": {
        "colab": {
          "base_uri": "https://localhost:8080/",
          "height": 1000
        },
        "id": "2l2NJMPW8LAv",
        "outputId": "8fe69c6c-833a-4968-a825-0ad4bd9d48ac"
      },
      "source": [
        "#listar as notícias linkadas:\n",
        "feeds(url)"
      ],
      "execution_count": 122,
      "outputs": [
        {
          "output_type": "display_data",
          "data": {
            "text/html": [
              "<a href='https://www.cnnbrasil.com.br/politica/alcolumbre-sinaliza-que-esta-disposto-a-se-reunir-com-bolsonaro/'>Alcolumbre sinaliza que está disposto a se reunir com Bolsonaro<hr></a>"
            ],
            "text/plain": [
              "<IPython.core.display.HTML object>"
            ]
          },
          "metadata": {}
        },
        {
          "output_type": "display_data",
          "data": {
            "text/html": [
              "<a href='https://www.cnnbrasil.com.br/entretenimento/superman-dos-anos-90-dean-cain-critica-super-heroi-bissexual-em-nova-edicao/'>Superman dos anos 90, Dean Cain critica herói bissexual em nova edição<hr></a>"
            ],
            "text/plain": [
              "<IPython.core.display.HTML object>"
            ]
          },
          "metadata": {}
        },
        {
          "output_type": "display_data",
          "data": {
            "text/html": [
              "<a href='https://www.cnnbrasil.com.br/business/numero-de-registros-de-inadimplentes-sobe-1-em-setembro-diz-boa-vista/'>Número de registros de inadimplentes sobe 1% em setembro, diz Boa Vista<hr></a>"
            ],
            "text/plain": [
              "<IPython.core.display.HTML object>"
            ]
          },
          "metadata": {}
        },
        {
          "output_type": "display_data",
          "data": {
            "text/html": [
              "<a href='https://www.cnnbrasil.com.br/business/crise-energetica-ameaca-recuperacao-global-diz-agencia-internacional-de-energia/'>Crise energética ameaça recuperação global, diz Agência Internacional de Energia<hr></a>"
            ],
            "text/plain": [
              "<IPython.core.display.HTML object>"
            ]
          },
          "metadata": {}
        },
        {
          "output_type": "display_data",
          "data": {
            "text/html": [
              "<a href='https://www.cnnbrasil.com.br/business/lideres-do-g7-definem-diretrizes-para-moedas-digitais-de-banco-centrais/'>Líderes do G7 definem diretrizes para moedas digitais de bancos centrais<hr></a>"
            ],
            "text/plain": [
              "<IPython.core.display.HTML object>"
            ]
          },
          "metadata": {}
        },
        {
          "output_type": "display_data",
          "data": {
            "text/html": [
              "<a href='https://www.cnnbrasil.com.br/business/guedes-defende-uso-de-acoes-da-petrobras-para-ajudar-vulneraveis-entenda/'>Guedes defende uso de ações da Petrobras para ajudar vulneráveis; entenda<hr></a>"
            ],
            "text/plain": [
              "<IPython.core.display.HTML object>"
            ]
          },
          "metadata": {}
        },
        {
          "output_type": "display_data",
          "data": {
            "text/html": [
              "<a href='https://www.cnnbrasil.com.br/internacional/bilionarios-deveriam-focar-em-consertar-a-terra-diz-william-sobre-turismo-espacial/'>Bilionários deveriam focar em consertar a Terra, diz William sobre turismo espacial<hr></a>"
            ],
            "text/plain": [
              "<IPython.core.display.HTML object>"
            ]
          },
          "metadata": {}
        },
        {
          "output_type": "display_data",
          "data": {
            "text/html": [
              "<a href='https://www.cnnbrasil.com.br/business/empresas-que-detem-metade-do-pib-apresentarao-metas-de-biodiversidade-na-cop-15/'>Empresas que detêm metade do PIB apresentarão metas de biodiversidade na COP 15<hr></a>"
            ],
            "text/plain": [
              "<IPython.core.display.HTML object>"
            ]
          },
          "metadata": {}
        },
        {
          "output_type": "display_data",
          "data": {
            "text/html": [
              "<a href='https://www.cnnbrasil.com.br/business/inflacao-industrial-recorde-da-china-tambem-ameaca-abastecimento-global/'>Inflação industrial recorde da China também ameaça abastecimento global<hr></a>"
            ],
            "text/plain": [
              "<IPython.core.display.HTML object>"
            ]
          },
          "metadata": {}
        },
        {
          "output_type": "display_data",
          "data": {
            "text/html": [
              "<a href='https://www.cnnbrasil.com.br/business/mercados-hoje-14-outubro/'>Dólar vai abaixo de R$5,50 após BC marcar presença no mercado; bolsa cai<hr></a>"
            ],
            "text/plain": [
              "<IPython.core.display.HTML object>"
            ]
          },
          "metadata": {}
        },
        {
          "output_type": "display_data",
          "data": {
            "text/html": [
              "<a href='https://www.cnnbrasil.com.br/business/bank-of-america-supera-previsao-de-lucro-com-mais-credito-e-reversao-de-provisoes/'>Bank of America supera previsão de lucro com mais crédito e reversão de provisões<hr></a>"
            ],
            "text/plain": [
              "<IPython.core.display.HTML object>"
            ]
          },
          "metadata": {}
        },
        {
          "output_type": "display_data",
          "data": {
            "text/html": [
              "<a href='https://www.cnnbrasil.com.br/business/frete-rodoviario-agricola-sobe-13-em-2021-nas-principais-rotas-mostra-pesquisa/'>Frete rodoviário agrícola sobe 13% em 2021 nas principais rotas, mostra pesquisa<hr></a>"
            ],
            "text/plain": [
              "<IPython.core.display.HTML object>"
            ]
          },
          "metadata": {}
        },
        {
          "output_type": "display_data",
          "data": {
            "text/html": [
              "<a href='https://www.cnnbrasil.com.br/business/eua-pedidos-de-auxilio-desemprego-caem-na-ultima-semana-para-293-mil/'>EUA: pedidos de auxílio-desemprego caem na última semana para 293 mil<hr></a>"
            ],
            "text/plain": [
              "<IPython.core.display.HTML object>"
            ]
          },
          "metadata": {}
        },
        {
          "output_type": "display_data",
          "data": {
            "text/html": [
              "<a href='https://www.cnnbrasil.com.br/business/melhora-da-pandemia-explica-alta-de-05-do-setor-de-servicos-diz-economista/'>Melhora da pandemia explica alta de 0,5% do setor de serviços, diz economista<hr></a>"
            ],
            "text/plain": [
              "<IPython.core.display.HTML object>"
            ]
          },
          "metadata": {}
        },
        {
          "output_type": "display_data",
          "data": {
            "text/html": [
              "<a href='https://www.cnnbrasil.com.br/nacional/decreto-autoriza-militares-dos-eua-no-brasil-para-treinamento-com-o-exercito-2/'>Decreto autoriza militares dos EUA no Brasil para treinamento com o Exército<hr></a>"
            ],
            "text/plain": [
              "<IPython.core.display.HTML object>"
            ]
          },
          "metadata": {}
        },
        {
          "output_type": "display_data",
          "data": {
            "text/html": [
              "<a href='https://www.cnnbrasil.com.br/business/cvc-retoma-operacoes-12-dias-apos-ataque-cibernetico/'>CVC retoma operações 12 dias após ataque cibernético<hr></a>"
            ],
            "text/plain": [
              "<IPython.core.display.HTML object>"
            ]
          },
          "metadata": {}
        },
        {
          "output_type": "display_data",
          "data": {
            "text/html": [
              "<a href='https://www.cnnbrasil.com.br/business/mercados-ainda-refletem-alivio-com-indicacao-do-fed-sobre-juros-e-inflacao/'>Mercados ainda refletem alívio com indicação do Fed sobre juros e inflação<hr></a>"
            ],
            "text/plain": [
              "<IPython.core.display.HTML object>"
            ]
          },
          "metadata": {}
        },
        {
          "output_type": "display_data",
          "data": {
            "text/html": [
              "<a href='https://www.cnnbrasil.com.br/nacional/rio-de-janeiro-ganha-primeira-central-de-coleta-e-reciclagem-de-lixo-eletronico/'>Rio de Janeiro ganha primeira central de coleta e reciclagem de lixo eletrônico<hr></a>"
            ],
            "text/plain": [
              "<IPython.core.display.HTML object>"
            ]
          },
          "metadata": {}
        },
        {
          "output_type": "display_data",
          "data": {
            "text/html": [
              "<a href='https://www.cnnbrasil.com.br/business/reforma-de-bc-turco-por-erdogan-abre-caminho-para-mais-cortes-de-juros/'>Reforma de BC turco por Erdogan abre caminho para mais cortes de juros<hr></a>"
            ],
            "text/plain": [
              "<IPython.core.display.HTML object>"
            ]
          },
          "metadata": {}
        },
        {
          "output_type": "display_data",
          "data": {
            "text/html": [
              "<a href='https://www.cnnbrasil.com.br/nacional/pf-prende-sete-pessoas-envolvidas-em-assalto-a-bancos-em-aracatuba/'>PF prende sete pessoas envolvidas em assalto a bancos em Araçatuba<hr></a>"
            ],
            "text/plain": [
              "<IPython.core.display.HTML object>"
            ]
          },
          "metadata": {}
        },
        {
          "output_type": "display_data",
          "data": {
            "text/html": [
              "<a href='https://www.cnnbrasil.com.br/entretenimento/rock-in-rio-anuncia-banda-inglesa-coldplay-para-edicao-2022/'>Rock in Rio anuncia banda inglesa Coldplay para edição 2022<hr></a>"
            ],
            "text/plain": [
              "<IPython.core.display.HTML object>"
            ]
          },
          "metadata": {}
        },
        {
          "output_type": "display_data",
          "data": {
            "text/html": [
              "<a href='https://www.cnnbrasil.com.br/business/thamea-danelon-medida-que-altera-cobranca-do-icms-e-uma-vitoria-para-a-sociedade/'>Thaméa Danelon: Medida que altera cobrança do ICMS é uma vitória para a sociedade<hr></a>"
            ],
            "text/plain": [
              "<IPython.core.display.HTML object>"
            ]
          },
          "metadata": {}
        },
        {
          "output_type": "display_data",
          "data": {
            "text/html": [
              "<a href='https://www.cnnbrasil.com.br/business/fernando-molica-bolsonaro-ganhou-guerra-da-narrativa-com-alteracoes-no-icms/'>Fernando Molica: Bolsonaro ganhou ‘guerra da narrativa’ com alterações no ICMS<hr></a>"
            ],
            "text/plain": [
              "<IPython.core.display.HTML object>"
            ]
          },
          "metadata": {}
        },
        {
          "output_type": "display_data",
          "data": {
            "text/html": [
              "<a href='https://www.cnnbrasil.com.br/business/servicos-crescem-05-em-agosto-e-atingem-maior-patamar-para-o-mes-desde-2015/'>Serviços crescem 0,5% em agosto e atingem maior patamar para o mês desde 2015<hr></a>"
            ],
            "text/plain": [
              "<IPython.core.display.HTML object>"
            ]
          },
          "metadata": {}
        },
        {
          "output_type": "display_data",
          "data": {
            "text/html": [
              "<a href='https://www.cnnbrasil.com.br/nacional/aulas-presenciais-devem-evitar-catastrofe-educacional-diz-coordenadora-da-unesco/'>Aulas presenciais devem evitar catástrofe educacional, diz coordenadora da Unesco<hr></a>"
            ],
            "text/plain": [
              "<IPython.core.display.HTML object>"
            ]
          },
          "metadata": {}
        },
        {
          "output_type": "display_data",
          "data": {
            "text/html": [
              "<a href='https://www.cnnbrasil.com.br/saude/correspondente-medico-saiba-os-riscos-da-poluicao-sonora-para-a-saude/'>Correspondente Médico: Saiba os riscos da poluição sonora para a saúde<hr></a>"
            ],
            "text/plain": [
              "<IPython.core.display.HTML object>"
            ]
          },
          "metadata": {}
        },
        {
          "output_type": "display_data",
          "data": {
            "text/html": [
              "<a href='https://www.cnnbrasil.com.br/nacional/sp-apenas-24-das-escolas-estaduais-estao-aptas-para-aulas-presenciais/'>SP: Apenas 24% das escolas estaduais estão aptas para aulas presenciais<hr></a>"
            ],
            "text/plain": [
              "<IPython.core.display.HTML object>"
            ]
          },
          "metadata": {}
        },
        {
          "output_type": "display_data",
          "data": {
            "text/html": [
              "<a href='https://www.cnnbrasil.com.br/saude/exame-de-anticorpo-da-falsa-seguranca-contra-a-covid-19-afirma-medico/'>Exame de anticorpo dá falsa segurança contra a Covid-19, afirma médico<hr></a>"
            ],
            "text/plain": [
              "<IPython.core.display.HTML object>"
            ]
          },
          "metadata": {}
        },
        {
          "output_type": "display_data",
          "data": {
            "text/html": [
              "<a href='https://www.cnnbrasil.com.br/politica/waack-membros-do-mp-ganharam-posicao-que-a-classe-politica-nao-gostou/'>Waack: Membros do MP ganharam posição que a classe política não gostou<hr></a>"
            ],
            "text/plain": [
              "<IPython.core.display.HTML object>"
            ]
          },
          "metadata": {}
        },
        {
          "output_type": "display_data",
          "data": {
            "text/html": [
              "<a href='https://www.cnnbrasil.com.br/nacional/covid-19-deixa-pelo-menos-12-mil-criancas-brasileiras-orfas/'>Covid-19 deixa pelo menos 12 mil crianças brasileiras órfãs<hr></a>"
            ],
            "text/plain": [
              "<IPython.core.display.HTML object>"
            ]
          },
          "metadata": {}
        },
        {
          "output_type": "display_data",
          "data": {
            "text/html": [
              "<a href='https://www.cnnbrasil.com.br/business/trabalhadores-nascidos-em-agosto-podem-sacar-6a-parcela-do-auxilio-emergencial/'>Trabalhadores nascidos em agosto podem sacar 6ª parcela do auxílio emergencial<hr></a>"
            ],
            "text/plain": [
              "<IPython.core.display.HTML object>"
            ]
          },
          "metadata": {}
        },
        {
          "output_type": "display_data",
          "data": {
            "text/html": [
              "<a href='https://www.cnnbrasil.com.br/nacional/medida-foi-acertada-e-aula-presencial-deve-ser-obrigatoria-diz-diretora-da-fgv/'>Medida foi acertada e aula presencial deve ser obrigatória, diz diretora da FGV<hr></a>"
            ],
            "text/plain": [
              "<IPython.core.display.HTML object>"
            ]
          },
          "metadata": {}
        },
        {
          "output_type": "display_data",
          "data": {
            "text/html": [
              "<a href='https://www.cnnbrasil.com.br/business/podcast-alma-do-negocio-como-saber-quando-chegou-o-momento-de-desistir-de-um-trabalho/'>Como saber quando chegou o momento de desistir de um trabalho<hr></a>"
            ],
            "text/plain": [
              "<IPython.core.display.HTML object>"
            ]
          },
          "metadata": {}
        },
        {
          "output_type": "display_data",
          "data": {
            "text/html": [
              "<a href='https://www.cnnbrasil.com.br/business/alta-de-precos-ao-produtor-na-china-batem-recorde-em-setembro-e-apresenta-dilema/'>Alta de preços ao produtor na China batem recorde em setembro e apresenta dilema<hr></a>"
            ],
            "text/plain": [
              "<IPython.core.display.HTML object>"
            ]
          },
          "metadata": {}
        },
        {
          "output_type": "display_data",
          "data": {
            "text/html": [
              "<a href='https://www.cnnbrasil.com.br/esporte/david-brooks-meio-campista-do-futebol-ingles-e-diagnosticado-com-cancer/'>David Brooks, meio-campista do futebol inglês, é diagnosticado com câncer<hr></a>"
            ],
            "text/plain": [
              "<IPython.core.display.HTML object>"
            ]
          },
          "metadata": {}
        },
        {
          "output_type": "display_data",
          "data": {
            "text/html": [
              "<a href='https://www.cnnbrasil.com.br/business/acoes-da-china-fecham-em-queda-devido-a-preocupacoes-com-inflacao-ao-produtor/'>Ações da China fecham em queda devido a preocupações com inflação ao produtor<hr></a>"
            ],
            "text/plain": [
              "<IPython.core.display.HTML object>"
            ]
          },
          "metadata": {}
        },
        {
          "output_type": "display_data",
          "data": {
            "text/html": [
              "<a href='https://www.cnnbrasil.com.br/nacional/aula-presencial-e-obrigatoria-em-nove-estados-brasileiros/'>Aula presencial é obrigatória em nove estados brasileiros<hr></a>"
            ],
            "text/plain": [
              "<IPython.core.display.HTML object>"
            ]
          },
          "metadata": {}
        },
        {
          "output_type": "display_data",
          "data": {
            "text/html": [
              "<a href='https://www.cnnbrasil.com.br/nacional/icms-sobre-combustivel-carnaval-2022-roberto-jefferson-e-mais-de-14-de-outubro/'>ICMS sobre combustível, Carnaval 2022, Roberto Jefferson e mais de 14 de outubro<hr></a>"
            ],
            "text/plain": [
              "<IPython.core.display.HTML object>"
            ]
          },
          "metadata": {}
        },
        {
          "output_type": "display_data",
          "data": {
            "text/html": [
              "<a href='https://www.cnnbrasil.com.br/business/governo-avalia-auxilio-transitorio-para-nao-incluidos-no-auxilio-brasil/'>Governo avalia auxílio transitório para não incluídos no Auxílio Brasil<hr></a>"
            ],
            "text/plain": [
              "<IPython.core.display.HTML object>"
            ]
          },
          "metadata": {}
        },
        {
          "output_type": "display_data",
          "data": {
            "text/html": [
              "<a href='https://www.cnnbrasil.com.br/internacional/incendio-em-predio-de-taiwan-mata-pelo-menos-46-pessoas/'>Incêndio em prédio de Taiwan mata pelo menos 46 pessoas<hr></a>"
            ],
            "text/plain": [
              "<IPython.core.display.HTML object>"
            ]
          },
          "metadata": {}
        },
        {
          "output_type": "display_data",
          "data": {
            "text/html": [
              "<a href='https://www.cnnbrasil.com.br/business/defasagem-no-preco-dos-combustiveis-chega-a-17-apontam-importadores/'>Defasagem no preço dos combustíveis chega a 17%, apontam importadores<hr></a>"
            ],
            "text/plain": [
              "<IPython.core.display.HTML object>"
            ]
          },
          "metadata": {}
        },
        {
          "output_type": "display_data",
          "data": {
            "text/html": [
              "<a href='https://www.cnnbrasil.com.br/internacional/tiroteio-proximo-a-protesto-em-beirute-deixa-uma-pessoa-morta-e-5-feridos/'>Tiroteio em Beirute deixa pelo menos cinco mortos e mais de 30 feridos<hr></a>"
            ],
            "text/plain": [
              "<IPython.core.display.HTML object>"
            ]
          },
          "metadata": {}
        },
        {
          "output_type": "display_data",
          "data": {
            "text/html": [
              "<a href='https://www.cnnbrasil.com.br/nacional/stf-retoma-nesta-quinta-14-julgamento-sobre-lei-que-autoriza-remedios-para-emagrecer/'>STF retoma, nesta quinta (14), julgamento sobre lei que autoriza remédios para emagrecer<hr></a>"
            ],
            "text/plain": [
              "<IPython.core.display.HTML object>"
            ]
          },
          "metadata": {}
        },
        {
          "output_type": "display_data",
          "data": {
            "text/html": [
              "<a href='https://www.cnnbrasil.com.br/business/camara-aprova-mudanca-no-calculo-do-icms-sobre-combustiveis-entenda-a-proposta/'>Câmara aprova mudança no cálculo do ICMS sobre combustíveis; entenda a proposta<hr></a>"
            ],
            "text/plain": [
              "<IPython.core.display.HTML object>"
            ]
          },
          "metadata": {}
        },
        {
          "output_type": "display_data",
          "data": {
            "text/html": [
              "<a href='https://www.cnnbrasil.com.br/saude/podcast-e-tem-mais-falta-de-acesso-a-absorventes-provoca-impactos-sociais-e-medicos-no-brasil/'>Falta de acesso a absorventes provoca impactos sociais e médicos no Brasil<hr></a>"
            ],
            "text/plain": [
              "<IPython.core.display.HTML object>"
            ]
          },
          "metadata": {}
        },
        {
          "output_type": "display_data",
          "data": {
            "text/html": [
              "<a href='https://www.cnnbrasil.com.br/business/saiba-por-quanto-tempo-voce-precisa-guardar-comprovantes-de-contas-pagas/'>Saiba por quanto tempo você precisa guardar comprovantes de contas pagas<hr></a>"
            ],
            "text/plain": [
              "<IPython.core.display.HTML object>"
            ]
          },
          "metadata": {}
        },
        {
          "output_type": "display_data",
          "data": {
            "text/html": [
              "<a href='https://www.cnnbrasil.com.br/business/de-olho-em-novos-investidores-b3-lanca-6-cursos-sobre-o-mercado-financeiro/'>De olho em novos investidores, B3 lança 6 cursos sobre o mercado financeiro<hr></a>"
            ],
            "text/plain": [
              "<IPython.core.display.HTML object>"
            ]
          },
          "metadata": {}
        },
        {
          "output_type": "display_data",
          "data": {
            "text/html": [
              "<a href='https://www.cnnbrasil.com.br/saude/como-criar-filhos-que-entendam-a-importancia-do-cuidado-com-a-saude-mental/'>Como criar filhos que entendam a importância do cuidado com a saúde mental<hr></a>"
            ],
            "text/plain": [
              "<IPython.core.display.HTML object>"
            ]
          },
          "metadata": {}
        },
        {
          "output_type": "display_data",
          "data": {
            "text/html": [
              "<a href='https://www.cnnbrasil.com.br/nacional/oito-militares-do-exercito-sao-condenados-por-mortes-de-musico-e-catador-no-rj/'>Oito militares do Exército são condenados por mortes de músico e catador no RJ<hr></a>"
            ],
            "text/plain": [
              "<IPython.core.display.HTML object>"
            ]
          },
          "metadata": {}
        },
        {
          "output_type": "display_data",
          "data": {
            "text/html": [
              "<a href='https://www.cnnbrasil.com.br/business/em-washington-paulo-guedes-pede-que-estrangeiros-invistam-no-brasil/'>Em Washington, Paulo Guedes pede que estrangeiros invistam no Brasil<hr></a>"
            ],
            "text/plain": [
              "<IPython.core.display.HTML object>"
            ]
          },
          "metadata": {}
        },
        {
          "output_type": "display_data",
          "data": {
            "text/html": [
              "<a href='https://www.cnnbrasil.com.br/business/governo-diz-que-problema-da-inflacao-esta-no-mundo-todo/'>Governo diz que problema da inflação “está no mundo todo”<hr></a>"
            ],
            "text/plain": [
              "<IPython.core.display.HTML object>"
            ]
          },
          "metadata": {}
        },
        {
          "output_type": "display_data",
          "data": {
            "text/html": [
              "<a href='https://www.cnnbrasil.com.br/internacional/homem-e-acusado-apos-cinco-mortos-em-ataque-com-arco-e-flecha-na-noruega/'>Homem é acusado após ataque com arco e flecha que deixou cinco mortos na Noruega<hr></a>"
            ],
            "text/plain": [
              "<IPython.core.display.HTML object>"
            ]
          },
          "metadata": {}
        },
        {
          "output_type": "display_data",
          "data": {
            "text/html": [
              "<a href='https://www.cnnbrasil.com.br/politica/mp-nao-pode-ser-controlado-exclusivamente-por-politicos-diz-procurador/'>MP não pode ser controlado exclusivamente por políticos, diz procurador<hr></a>"
            ],
            "text/plain": [
              "<IPython.core.display.HTML object>"
            ]
          },
          "metadata": {}
        },
        {
          "output_type": "display_data",
          "data": {
            "text/html": [
              "<a href='https://www.cnnbrasil.com.br/entretenimento/rolling-stones-excluem-hit-brown-sugar-do-repertorio-de-shows/'>Rolling Stones excluem hit “Brown Sugar” do repertório de shows<hr></a>"
            ],
            "text/plain": [
              "<IPython.core.display.HTML object>"
            ]
          },
          "metadata": {}
        },
        {
          "output_type": "display_data",
          "data": {
            "text/html": [
              "<a href='https://www.cnnbrasil.com.br/internacional/casa-branca-nega-pedido-de-trump-para-ocultar-documentos-sobre-invasao-do-capitolio/'>Casa Branca nega pedido de Trump para ocultar documentos sobre invasão do Capitólio<hr></a>"
            ],
            "text/plain": [
              "<IPython.core.display.HTML object>"
            ]
          },
          "metadata": {}
        },
        {
          "output_type": "display_data",
          "data": {
            "text/html": [
              "<a href='https://www.cnnbrasil.com.br/politica/deputados-devem-retirar-tres-trechos-da-pec-que-altera-a-composicao-do-cnmp/'>Deputados devem retirar três trechos da PEC que altera a composição do CNMP<hr></a>"
            ],
            "text/plain": [
              "<IPython.core.display.HTML object>"
            ]
          },
          "metadata": {}
        },
        {
          "output_type": "display_data",
          "data": {
            "text/html": [
              "<a href='https://www.cnnbrasil.com.br/nacional/rio-alcanca-mais-de-75-de-imunizacao-contra-a-covid-19-entre-populacao-adulta/'>Rio alcança mais de 75% de imunização contra a Covid-19 entre população adulta<hr></a>"
            ],
            "text/plain": [
              "<IPython.core.display.HTML object>"
            ]
          },
          "metadata": {}
        },
        {
          "output_type": "display_data",
          "data": {
            "text/html": [
              "<a href='https://www.cnnbrasil.com.br/politica/waack-duas-votacoes-que-puseram-os-poderes-do-presidente-da-camara-em-teste/'>Waack: duas votações que puseram os poderes do presidente da Câmara em teste<hr></a>"
            ],
            "text/plain": [
              "<IPython.core.display.HTML object>"
            ]
          },
          "metadata": {}
        },
        {
          "output_type": "display_data",
          "data": {
            "text/html": [
              "<a href='https://www.cnnbrasil.com.br/saude/mascara-so-sera-descartada-com-estabilizacao-dos-obitos-diz-especialista/'>Máscara só será descartada com estabilização dos óbitos, diz especialista<hr></a>"
            ],
            "text/plain": [
              "<IPython.core.display.HTML object>"
            ]
          },
          "metadata": {}
        },
        {
          "output_type": "display_data",
          "data": {
            "text/html": [
              "<a href='https://www.cnnbrasil.com.br/nacional/rio-comeca-a-vender-ingressos-para-os-desfiles-do-carnaval-de-2022-nesta-quinta/'>Rio começa a vender ingressos para os desfiles do carnaval de 2022 nesta quinta<hr></a>"
            ],
            "text/plain": [
              "<IPython.core.display.HTML object>"
            ]
          },
          "metadata": {}
        },
        {
          "output_type": "execute_result",
          "data": {
            "text/plain": [
              "[]"
            ]
          },
          "metadata": {},
          "execution_count": 122
        }
      ]
    }
  ]
}